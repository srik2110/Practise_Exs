{
 "cells": [
  {
   "cell_type": "code",
   "execution_count": 35,
   "metadata": {
    "collapsed": true
   },
   "outputs": [],
   "source": [
    "import pandas as pd\n",
    "from sklearn.datasets import make_regression\n",
    "import numpy as np\n",
    "import matplotlib.pyplot as plt\n",
    "%matplotlib inline"
   ]
  },
  {
   "cell_type": "code",
   "execution_count": 2,
   "metadata": {
    "collapsed": true
   },
   "outputs": [],
   "source": [
    "features, output, coeff = make_regression(n_samples = 100, \n",
    "                                          #no. of features\n",
    "                                          n_features = 3, \n",
    "                                          # where only two features are useful,\n",
    "                                          n_informative = 2,\n",
    "                                          # a single target value per observation\n",
    "                                          n_targets = 1,\n",
    "                                          # 0.0 standard deviation of the guassian noise\n",
    "                                          noise = 0.0,\n",
    "                                          # show the true coefficient used to generated the data\n",
    "                                          coef = True)"
   ]
  },
  {
   "cell_type": "code",
   "execution_count": 33,
   "metadata": {
    "collapsed": false
   },
   "outputs": [
    {
     "data": {
      "text/html": [
       "<div>\n",
       "<table border=\"1\" class=\"dataframe\">\n",
       "  <thead>\n",
       "    <tr style=\"text-align: right;\">\n",
       "      <th></th>\n",
       "      <th>Store 1</th>\n",
       "      <th>Store 2</th>\n",
       "      <th>Store 3</th>\n",
       "      <th>Sales</th>\n",
       "    </tr>\n",
       "  </thead>\n",
       "  <tbody>\n",
       "    <tr>\n",
       "      <th>0</th>\n",
       "      <td>-0.455948</td>\n",
       "      <td>1.756011</td>\n",
       "      <td>-0.555034</td>\n",
       "      <td>-21.635032</td>\n",
       "    </tr>\n",
       "    <tr>\n",
       "      <th>1</th>\n",
       "      <td>1.207700</td>\n",
       "      <td>0.020632</td>\n",
       "      <td>-0.138216</td>\n",
       "      <td>-9.461590</td>\n",
       "    </tr>\n",
       "    <tr>\n",
       "      <th>2</th>\n",
       "      <td>-0.346542</td>\n",
       "      <td>2.151927</td>\n",
       "      <td>0.812811</td>\n",
       "      <td>77.868818</td>\n",
       "    </tr>\n",
       "    <tr>\n",
       "      <th>3</th>\n",
       "      <td>-1.984013</td>\n",
       "      <td>2.159264</td>\n",
       "      <td>-0.457011</td>\n",
       "      <td>-10.838819</td>\n",
       "    </tr>\n",
       "    <tr>\n",
       "      <th>4</th>\n",
       "      <td>2.474734</td>\n",
       "      <td>-0.656637</td>\n",
       "      <td>0.599726</td>\n",
       "      <td>35.509259</td>\n",
       "    </tr>\n",
       "  </tbody>\n",
       "</table>\n",
       "</div>"
      ],
      "text/plain": [
       "    Store 1   Store 2   Store 3      Sales\n",
       "0 -0.455948  1.756011 -0.555034 -21.635032\n",
       "1  1.207700  0.020632 -0.138216  -9.461590\n",
       "2 -0.346542  2.151927  0.812811  77.868818\n",
       "3 -1.984013  2.159264 -0.457011 -10.838819\n",
       "4  2.474734 -0.656637  0.599726  35.509259"
      ]
     },
     "execution_count": 33,
     "metadata": {},
     "output_type": "execute_result"
    }
   ],
   "source": [
    "#Combine into dataframe and view the first five rows\n",
    "arr = np.append(features, output[:, None], 1)\n",
    "ls = arr.tolist()\n",
    "df = pd.DataFrame(ls, columns = ['Store 1', 'Store 2', 'Store 3', 'Sales'])\n",
    "df.head()"
   ]
  },
  {
   "cell_type": "code",
   "execution_count": 39,
   "metadata": {
    "collapsed": false
   },
   "outputs": [
    {
     "data": {
      "text/plain": [
       "<matplotlib.collections.PathCollection at 0x7f41d5a53390>"
      ]
     },
     "execution_count": 39,
     "metadata": {},
     "output_type": "execute_result"
    },
    {
     "data": {
      "image/png": "[encoded data removed]",
      "text/plain": [
       "<matplotlib.figure.Figure at 0x7f41d5b48250>"
      ]
     },
     "metadata": {},
     "output_type": "display_data"
    }
   ],
   "source": [
    "#how to know which two features are useful???\n",
    "plt.scatter(df['Store 2'], df['Sales'])"
   ]
  },
  {
   "cell_type": "code",
   "execution_count": null,
   "metadata": {
    "collapsed": true
   },
   "outputs": [],
   "source": []
  }
 ],
 "metadata": {
  "kernelspec": {
   "display_name": "Python [Root]",
   "language": "python",
   "name": "Python [Root]"
  },
  "language_info": {
   "codemirror_mode": {
    "name": "ipython",
    "version": 2
   },
   "file_extension": ".py",
   "mimetype": "text/x-python",
   "name": "python",
   "nbconvert_exporter": "python",
   "pygments_lexer": "ipython2",
   "version": "2.7.12"
  }
 },
 "nbformat": 4,
 "nbformat_minor": 0
}
