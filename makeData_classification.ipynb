{
 "cells": [
  {
   "cell_type": "markdown",
   "metadata": {},
   "source": [
    "# This is to create data - Source :  https://chrisalbon.com/#Python"
   ]
  },
  {
   "cell_type": "code",
   "execution_count": 1,
   "metadata": {
    "collapsed": true
   },
   "outputs": [],
   "source": [
    "import pandas as pd\n",
    "from sklearn.datasets import make_classification"
   ]
  },
  {
   "cell_type": "code",
   "execution_count": 2,
   "metadata": {
    "collapsed": true
   },
   "outputs": [],
   "source": [
    "features, output = make_classification(n_samples = 100,\n",
    "                                       # ten features\n",
    "                                       n_features = 10,\n",
    "                                       # five features that actually predict the output's classes\n",
    "                                       n_informative = 5,\n",
    "                                       # five features that are random and unrelated to the output's classes\n",
    "                                       n_redundant = 5,\n",
    "                                       # three output classes\n",
    "                                       n_classes = 3,\n",
    "                                       # with 20% of observations in the first class, 30% in the second class,\n",
    "                                       # and 50% in the third class. ('None' makes balanced classes)\n",
    "                                       weights = [.2, .3, .5])"
   ]
  },
  {
   "cell_type": "code",
   "execution_count": 3,
   "metadata": {
    "collapsed": false
   },
   "outputs": [
    {
     "data": {
      "text/html": [
       "<div>\n",
       "<table border=\"1\" class=\"dataframe\">\n",
       "  <thead>\n",
       "    <tr style=\"text-align: right;\">\n",
       "      <th></th>\n",
       "      <th>0</th>\n",
       "      <th>1</th>\n",
       "      <th>2</th>\n",
       "      <th>3</th>\n",
       "      <th>4</th>\n",
       "      <th>5</th>\n",
       "      <th>6</th>\n",
       "      <th>7</th>\n",
       "      <th>8</th>\n",
       "      <th>9</th>\n",
       "    </tr>\n",
       "  </thead>\n",
       "  <tbody>\n",
       "    <tr>\n",
       "      <th>0</th>\n",
       "      <td>1.700492</td>\n",
       "      <td>2.893814</td>\n",
       "      <td>0.412511</td>\n",
       "      <td>-2.649020</td>\n",
       "      <td>0.902613</td>\n",
       "      <td>-1.362120</td>\n",
       "      <td>2.529393</td>\n",
       "      <td>3.206048</td>\n",
       "      <td>1.264807</td>\n",
       "      <td>1.060793</td>\n",
       "    </tr>\n",
       "    <tr>\n",
       "      <th>1</th>\n",
       "      <td>0.746075</td>\n",
       "      <td>-1.565496</td>\n",
       "      <td>1.674270</td>\n",
       "      <td>-0.525217</td>\n",
       "      <td>1.105923</td>\n",
       "      <td>-0.639028</td>\n",
       "      <td>-1.458882</td>\n",
       "      <td>2.030577</td>\n",
       "      <td>-0.119613</td>\n",
       "      <td>-0.635294</td>\n",
       "    </tr>\n",
       "    <tr>\n",
       "      <th>2</th>\n",
       "      <td>-1.457533</td>\n",
       "      <td>1.302248</td>\n",
       "      <td>-1.990076</td>\n",
       "      <td>-1.265126</td>\n",
       "      <td>0.752138</td>\n",
       "      <td>-1.467665</td>\n",
       "      <td>1.952496</td>\n",
       "      <td>-0.419305</td>\n",
       "      <td>-1.491557</td>\n",
       "      <td>0.338959</td>\n",
       "    </tr>\n",
       "    <tr>\n",
       "      <th>3</th>\n",
       "      <td>1.461632</td>\n",
       "      <td>4.681499</td>\n",
       "      <td>-1.503595</td>\n",
       "      <td>-1.618291</td>\n",
       "      <td>0.251513</td>\n",
       "      <td>1.861048</td>\n",
       "      <td>2.531862</td>\n",
       "      <td>-2.577845</td>\n",
       "      <td>0.854022</td>\n",
       "      <td>2.210660</td>\n",
       "    </tr>\n",
       "    <tr>\n",
       "      <th>4</th>\n",
       "      <td>2.063784</td>\n",
       "      <td>1.478858</td>\n",
       "      <td>1.547084</td>\n",
       "      <td>-0.608986</td>\n",
       "      <td>-0.883292</td>\n",
       "      <td>-0.387526</td>\n",
       "      <td>1.284999</td>\n",
       "      <td>3.456257</td>\n",
       "      <td>2.719132</td>\n",
       "      <td>0.495352</td>\n",
       "    </tr>\n",
       "  </tbody>\n",
       "</table>\n",
       "</div>"
      ],
      "text/plain": [
       "          0         1         2         3         4         5         6  \\\n",
       "0  1.700492  2.893814  0.412511 -2.649020  0.902613 -1.362120  2.529393   \n",
       "1  0.746075 -1.565496  1.674270 -0.525217  1.105923 -0.639028 -1.458882   \n",
       "2 -1.457533  1.302248 -1.990076 -1.265126  0.752138 -1.467665  1.952496   \n",
       "3  1.461632  4.681499 -1.503595 -1.618291  0.251513  1.861048  2.531862   \n",
       "4  2.063784  1.478858  1.547084 -0.608986 -0.883292 -0.387526  1.284999   \n",
       "\n",
       "          7         8         9  \n",
       "0  3.206048  1.264807  1.060793  \n",
       "1  2.030577 -0.119613 -0.635294  \n",
       "2 -0.419305 -1.491557  0.338959  \n",
       "3 -2.577845  0.854022  2.210660  \n",
       "4  3.456257  2.719132  0.495352  "
      ]
     },
     "execution_count": 3,
     "metadata": {},
     "output_type": "execute_result"
    }
   ],
   "source": [
    "pd.DataFrame(features).head()"
   ]
  },
  {
   "cell_type": "code",
   "execution_count": 4,
   "metadata": {
    "collapsed": false
   },
   "outputs": [
    {
     "data": {
      "text/html": [
       "<div>\n",
       "<table border=\"1\" class=\"dataframe\">\n",
       "  <thead>\n",
       "    <tr style=\"text-align: right;\">\n",
       "      <th></th>\n",
       "      <th>0</th>\n",
       "    </tr>\n",
       "  </thead>\n",
       "  <tbody>\n",
       "    <tr>\n",
       "      <th>0</th>\n",
       "      <td>2</td>\n",
       "    </tr>\n",
       "    <tr>\n",
       "      <th>1</th>\n",
       "      <td>0</td>\n",
       "    </tr>\n",
       "    <tr>\n",
       "      <th>2</th>\n",
       "      <td>0</td>\n",
       "    </tr>\n",
       "    <tr>\n",
       "      <th>3</th>\n",
       "      <td>1</td>\n",
       "    </tr>\n",
       "    <tr>\n",
       "      <th>4</th>\n",
       "      <td>2</td>\n",
       "    </tr>\n",
       "  </tbody>\n",
       "</table>\n",
       "</div>"
      ],
      "text/plain": [
       "   0\n",
       "0  2\n",
       "1  0\n",
       "2  0\n",
       "3  1\n",
       "4  2"
      ]
     },
     "execution_count": 4,
     "metadata": {},
     "output_type": "execute_result"
    }
   ],
   "source": [
    "pd.DataFrame(output).head()"
   ]
  }
 ],
 "metadata": {
  "kernelspec": {
   "display_name": "Python [Root]",
   "language": "python",
   "name": "Python [Root]"
  },
  "language_info": {
   "codemirror_mode": {
    "name": "ipython",
    "version": 2
   },
   "file_extension": ".py",
   "mimetype": "text/x-python",
   "name": "python",
   "nbconvert_exporter": "python",
   "pygments_lexer": "ipython2",
   "version": "2.7.12"
  }
 },
 "nbformat": 4,
 "nbformat_minor": 0
}
